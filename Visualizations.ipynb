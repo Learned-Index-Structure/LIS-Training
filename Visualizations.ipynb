{
 "cells": [
  {
   "cell_type": "markdown",
   "metadata": {},
   "source": [
    "## Visualization Code"
   ]
  },
  {
   "cell_type": "code",
   "execution_count": 1,
   "metadata": {},
   "outputs": [],
   "source": [
    "import numpy as np\n",
    "import pandas as pd\n",
    "\n",
    "# Required for large file uploads\n",
    "chunk_size = 16777216\n",
    "nbins = 10000"
   ]
  },
  {
   "cell_type": "markdown",
   "metadata": {},
   "source": [
    "### Used to visualize the min error and max error for second layer. \n",
    "\n",
    "Min error is at index 2 in file and Max error at index 3. "
   ]
  },
  {
   "cell_type": "code",
   "execution_count": 2,
   "metadata": {},
   "outputs": [],
   "source": [
    "from matplotlib import pyplot as plt\n",
    "%matplotlib inline\n",
    "\n",
    "def plot_hists(identifier, buckets, batch_size, index_file, percentage): \n",
    "    filename = \"/home/yash/Desktop/CSE-662/Code/LIS/models/{}/model_params_layer_2_{}_{}.txt\".format(identifier, buckets, batch_size)\n",
    "    \n",
    "    low = np.inf\n",
    "    high = -np.inf\n",
    "\n",
    "    data = []\n",
    "    \n",
    "    for index in range((buckets+1) // chunk_size + 1):\n",
    "        chunk = next(pd.read_csv(filename, skiprows=index * chunk_size+1, chunksize=chunk_size,\n",
    "                            header = None, sep=' ', dtype=np.float64, index_col = False))\n",
    "        \n",
    "        chunk = chunk[chunk[index_file]!=-1]\n",
    "        chunk = chunk[1:-1]\n",
    "        low = np.minimum(chunk.iloc[:, index_file].min(), low)\n",
    "        high = np.maximum(chunk.iloc[:, index_file].max(), high)\n",
    "        data = chunk.iloc[:, index_file]\n",
    "    \n",
    "    bin_edges = np.linspace(low, high, nbins + 1)\n",
    "    if index_file == 2:\n",
    "        bin_edges = bin_edges[len(bin_edges)-nbins*percentage//100 :]\n",
    "    else:        \n",
    "        bin_edges = bin_edges[:nbins*percentage//100]\n",
    "\n",
    "    plt.hist(data, bin_edges)\n",
    "    del bin_edges\n",
    "    del low\n",
    "    del high\n",
    "    plt.savefig(\"/home/yash/Desktop/CSE-662/Code/LIS/graphs/{}_{}_{}_{}.png\".format(identifier, buckets, index_file, percentage))\n",
    "    plt.clf()"
   ]
  },
  {
   "cell_type": "code",
   "execution_count": 3,
   "metadata": {},
   "outputs": [
    {
     "data": {
      "text/plain": [
       "<Figure size 432x288 with 0 Axes>"
      ]
     },
     "metadata": {},
     "output_type": "display_data"
    }
   ],
   "source": [
    "identifier = [\"lognormal\", \"lognormal_1\",\"maps\",\"maps_1\",\"weblogs\",\"weblogs_1\"]\n",
    "buckets = [10000,20000,50000,100000,200000]\n",
    "percentage = [2,5,10, 20, 40, 50, 100]\n",
    "batch_size = 32\n",
    "from matplotlib import pyplot as plt\n",
    "%matplotlib inline\n",
    "\n",
    "for i in identifier:\n",
    "    for b in buckets:\n",
    "        for p in percentage:\n",
    "            if i[0] == \"w\" and b == 200000:\n",
    "                continue\n",
    "            plot_hists(i, b, batch_size,2, p)\n",
    "            plot_hists(i, b, batch_size,3, p)            "
   ]
  },
  {
   "cell_type": "markdown",
   "metadata": {},
   "source": [
    "### Visualize the distribution of data for layer-2 (Bucket Size)"
   ]
  },
  {
   "cell_type": "code",
   "execution_count": null,
   "metadata": {},
   "outputs": [],
   "source": [
    "from matplotlib import pyplot as plt\n",
    "%matplotlib inline\n",
    "import os\n",
    "import glob\n",
    "\n",
    "def plot_hists(identifier, buckets, percentage): \n",
    "    ur_directory = \"/media/yash/Data/CSE662_Data/Buckets/{}/{}\".format(identifier, buckets)\n",
    "    os.chdir(ur_directory)\n",
    "    data=[]\n",
    "    for fn in glob.glob('*.csv'):\n",
    "        with open(fn) as f:\n",
    "            lines = sum(1 for line in f)\n",
    "            data.append(lines)\n",
    "\n",
    "    low = min(data)\n",
    "    high = max(data)\n",
    "    bin_edges = np.linspace(low, high, nbins + 1)\n",
    "  \n",
    "    data = np.asarray(data, dtype=np.float32)\n",
    "    \n",
    "    \n",
    "    for p in percentage:\n",
    "        new_bin_edges = bin_edges[:(nbins*p)//100]\n",
    "\n",
    "        plt.hist(data, new_bin_edges)\n",
    "\n",
    "        plt.savefig(\"/home/yash/Desktop/CSE-662/Code/LIS/graphs/{}_{}_{}.png\".format(identifier, buckets, p))\n",
    "        plt.clf()\n",
    "\n",
    "    del data\n",
    "    del bin_edges\n",
    "    del low\n",
    "    del high"
   ]
  },
  {
   "cell_type": "code",
   "execution_count": null,
   "metadata": {},
   "outputs": [],
   "source": [
    "identifier = [\"lognormal\", \"lognormal_1\",\"maps\",\"maps_1\",\"weblogs\",\"weblogs_1\"]\n",
    "buckets = [10000, 20000, 50000,100000,200000]\n",
    "percentage = [5, 10, 20, 40, 50, 100]\n",
    "\n",
    "from matplotlib import pyplot as plt\n",
    "%matplotlib inline\n",
    "\n",
    "for i in identifier:\n",
    "    for b in buckets:\n",
    "        if i[0] == \"w\" and b == 200000:\n",
    "            continue\n",
    "        plot_hists(i, b, percentage)"
   ]
  },
  {
   "cell_type": "markdown",
   "metadata": {},
   "source": [
    "### Plot the error for layer-1. This needs to be done using on disk readding method."
   ]
  },
  {
   "cell_type": "code",
   "execution_count": null,
   "metadata": {},
   "outputs": [],
   "source": [
    "import numpy as np\n",
    "import pandas as pd\n",
    "from matplotlib import pyplot as plt\n",
    "%matplotlib inline\n",
    "import math\n",
    "\n",
    "def plot_hhh(identifier):\n",
    "    low = np.inf\n",
    "    high = -np.inf\n",
    "    filename = \"/media/yash/Data/CSE662_Data/Layer_1_Output/{}/layer_1_op.csv\".format(identifier)\n",
    "            \n",
    "    for chunk in pd.read_table(filename, header=None, chunksize=16777216//2, sep=' ', dtype=np.float64, index_col = False):\n",
    "        low = np.minimum(chunk.iloc[:, 3].min(), low)\n",
    "        high = np.maximum(chunk.iloc[:, 3].max(), high)\n",
    "    \n",
    "    bin_edges = np.linspace(low, high, nbins + 1)\n",
    "    total = np.zeros(nbins, np.uint)\n",
    "\n",
    "    for chunk in pd.read_table(filename, header=None, chunksize=16777216//2, sep=' ', dtype=np.float64, index_col = False):\n",
    "        subtotal, e = np.histogram(chunk.iloc[:, 3], bins=bin_edges)\n",
    "        total += subtotal.astype(np.uint)\n",
    "    \n",
    "    plt.bar(bin_edges[:-1], total, width=200)\n",
    "    plt.savefig(\"/home/yash/Desktop/CSE-662/Code/LIS/graphs/{}.png\".format(identifier))\n",
    "    plt.clf()\n",
    "    \n",
    "plot_hhh(\"weblogs\")\n",
    "plot_hhh(\"maps\")\n",
    "plot_hhh(\"lognormal\")"
   ]
  },
  {
   "cell_type": "code",
   "execution_count": null,
   "metadata": {},
   "outputs": [],
   "source": []
  }
 ],
 "metadata": {
  "kernelspec": {
   "display_name": "Python 3",
   "language": "python",
   "name": "python3"
  },
  "language_info": {
   "codemirror_mode": {
    "name": "ipython",
    "version": 3
   },
   "file_extension": ".py",
   "mimetype": "text/x-python",
   "name": "python",
   "nbconvert_exporter": "python",
   "pygments_lexer": "ipython3",
   "version": "3.7.4"
  }
 },
 "nbformat": 4,
 "nbformat_minor": 2
}
