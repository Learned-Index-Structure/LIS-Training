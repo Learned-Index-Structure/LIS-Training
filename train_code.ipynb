{
 "cells": [
  {
   "cell_type": "markdown",
   "metadata": {},
   "source": [
    "### Necessary Imports"
   ]
  },
  {
   "cell_type": "code",
   "execution_count": 1,
   "metadata": {},
   "outputs": [],
   "source": [
    "import numpy as np\n",
    "import torch\n",
    "import pandas as pd\n",
    "from torch.autograd import Variable\n",
    "import torch.nn.functional as F\n",
    "import os\n",
    "import csv\n",
    "\n",
    "torch.set_default_dtype(torch.float64)"
   ]
  },
  {
   "cell_type": "markdown",
   "metadata": {},
   "source": [
    "### Create a identifier and directories for the same\n",
    "\n",
    "Define the identifier i.e. the direcctory will be used for writing all the temporary files like Buckets data and writing the model files. The path can be changed in the below cell. "
   ]
  },
  {
   "cell_type": "code",
   "execution_count": 32,
   "metadata": {},
   "outputs": [],
   "source": [
    "identifier = \"maps\"\n",
    "\n",
    "if not os.path.exists(\"models/{}\".format(identifier)):\n",
    "    os.makedirs(\"models/{}\".format(identifier))\n",
    "        \n",
    "if not os.path.exists(\"/media/yash/Data/CSE662_Data/Buckets/{}\".format(identifier)):\n",
    "    os.makedirs(\"/media/yash/Data/CSE662_Data/Buckets/{}\".format(identifier))"
   ]
  },
  {
   "cell_type": "markdown",
   "metadata": {},
   "source": [
    "### Set up the data path and preprocess steps. \n",
    "\n",
    "The preprocess would involve subtracting the offset and then scaling the data between 0 and 1. "
   ]
  },
  {
   "cell_type": "markdown",
   "metadata": {},
   "source": [
    "### Weblogs Data"
   ]
  },
  {
   "cell_type": "code",
   "execution_count": 3,
   "metadata": {},
   "outputs": [],
   "source": [
    "offset = 1425168000107.1\n",
    "x_max = 2678399597\n",
    "y_max = 75689906\n",
    "total_rows = 74166063\n",
    "path = \"/media/yash/Data/CSE662_Data/\"  # Dataset\n",
    "dataset_name = \"WebLogs/\""
   ]
  },
  {
   "cell_type": "markdown",
   "metadata": {},
   "source": [
    "### Maps Data"
   ]
  },
  {
   "cell_type": "code",
   "execution_count": 33,
   "metadata": {},
   "outputs": [],
   "source": [
    "offset = -180\n",
    "x_max = 360\n",
    "y_max = 199999999\n",
    "total_rows = 174905625\n",
    "path = \"/media/yash/Data/CSE662_Data/\"  # Dataset\n",
    "dataset_name = \"Maps/\""
   ]
  },
  {
   "cell_type": "markdown",
   "metadata": {},
   "source": [
    "### LogNormal Data"
   ]
  },
  {
   "cell_type": "code",
   "execution_count": 29,
   "metadata": {},
   "outputs": [],
   "source": [
    "offset = 6025\n",
    "x_max = 540958858\n",
    "y_max = 189999999\n",
    "total_rows = 190000000\n",
    "path = \"/media/yash/Data/CSE662_Data/\"  # Dataset\n",
    "dataset_name = \"LogNormal/\""
   ]
  },
  {
   "cell_type": "markdown",
   "metadata": {},
   "source": [
    "### Define Model Architecture"
   ]
  },
  {
   "cell_type": "code",
   "execution_count": null,
   "metadata": {},
   "outputs": [],
   "source": [
    "class SuperNet(torch.nn.Module):\n",
    "    def __init__(self, n1=16, n2=16, bias=True):\n",
    "        super(SuperNet, self).__init__()\n",
    "        if n2 == 0:\n",
    "            self.layers = torch.nn.Linear(in_features=1, out_features=n1, bias=bias)\n",
    "        else:\n",
    "            self.layers = torch.nn.Sequential(torch.nn.Linear(in_features=1, out_features=n1, bias=bias),\n",
    "                                        torch.nn.ReLU(),\n",
    "                                        torch.nn.Linear(n1, n2, bias=bias),\n",
    "                                        )\n",
    "\n",
    "        self.out_layer = torch.nn.Linear(n1 if n2 == 0 else n2, 1, bias=bias)\n",
    "\n",
    "    def forward(self, x):\n",
    "        out = F.relu(self.layers(x))\n",
    "        return self.out_layer(out)"
   ]
  },
  {
   "cell_type": "markdown",
   "metadata": {},
   "source": [
    "### Create model object and initialize optimizer"
   ]
  },
  {
   "cell_type": "code",
   "execution_count": null,
   "metadata": {},
   "outputs": [],
   "source": [
    "model = SuperNet(16,16,True)\n",
    "\n",
    "if torch.cuda.is_available():\n",
    "    model.cuda()\n",
    "    \n",
    "criterion = torch.nn.MSELoss()\n",
    "optimizer = torch.optim.Adagrad(model.parameters(), lr=0.01)"
   ]
  },
  {
   "cell_type": "markdown",
   "metadata": {},
   "source": [
    "### Saving the state dict for Optimizer"
   ]
  },
  {
   "cell_type": "code",
   "execution_count": null,
   "metadata": {},
   "outputs": [],
   "source": [
    "torch.save(obj=optimizer.state_dict(), f=\"models/{}/super_layer_optim.pt\".format(identifier))"
   ]
  },
  {
   "cell_type": "markdown",
   "metadata": {},
   "source": [
    "### Getting the state dict for Optimizer"
   ]
  },
  {
   "cell_type": "code",
   "execution_count": null,
   "metadata": {},
   "outputs": [],
   "source": [
    "optimizer.load_state_dict(torch.load(f=\"models/{}/super_layer_optim.pt\".format(identifier)))"
   ]
  },
  {
   "cell_type": "markdown",
   "metadata": {},
   "source": [
    "### Getting the state dict for Optimizer"
   ]
  },
  {
   "cell_type": "code",
   "execution_count": null,
   "metadata": {},
   "outputs": [],
   "source": [
    "model.load_state_dict(torch.load(f=\"models/{}/super_layer.pt\".format(identifier)))"
   ]
  },
  {
   "cell_type": "markdown",
   "metadata": {},
   "source": [
    "### Saving the state dict for Model"
   ]
  },
  {
   "cell_type": "code",
   "execution_count": null,
   "metadata": {},
   "outputs": [],
   "source": [
    "torch.save(obj=model.state_dict(), f=\"models/{}/super_layer.pt\".format(identifier))"
   ]
  },
  {
   "cell_type": "markdown",
   "metadata": {},
   "source": [
    "### Training the model on sample of data (Uniform Sampling) \n",
    "\n",
    "This step can be avoided. But this helps reach the optimum value faster. The data can be sampled using the cell provided in the end by providing the percentage. \n",
    "\n",
    "Iteratively increase the data samples and then move onto the below on disk training process."
   ]
  },
  {
   "cell_type": "code",
   "execution_count": null,
   "metadata": {},
   "outputs": [],
   "source": [
    "filename = path + dataset_name + \"sorted_keys_non_repeated_sampled_1000.csv\"\n",
    "\n",
    "x = pd.read_csv(filename, header = None, sep=' ', dtype=np.float64, index_col = False)\n",
    "x = x.values\n",
    "\n",
    "x_train = x[:,1]-offset\n",
    "x_train = x_train.reshape((-1,1))\n",
    "x_train = x_train/x_max\n",
    "\n",
    "y_train = x[:,0]\n",
    "y_train = y_train.reshape((-1,1))\n",
    "y_train = y_train/y_max\n",
    "\n",
    "print(\"Data Dimensions: \", x.shape)"
   ]
  },
  {
   "cell_type": "code",
   "execution_count": null,
   "metadata": {
    "scrolled": true
   },
   "outputs": [],
   "source": [
    "last_loss = 100000\n",
    "\n",
    "for epoch in range(1000000):\n",
    "    if torch.cuda.is_available():\n",
    "        inputs = Variable(torch.from_numpy(x_train).cuda())\n",
    "        labels = Variable(torch.from_numpy(y_train).cuda())\n",
    "    else:\n",
    "        inputs = Variable(torch.from_numpy(x_train))\n",
    "        labels = Variable(torch.from_numpy(y_train))\n",
    "    \n",
    "    optimizer.zero_grad()\n",
    "    outputs = model(inputs)\n",
    "    loss = criterion(outputs, labels)\n",
    "    loss.backward()\n",
    "    optimizer.step()\n",
    "    \n",
    "    if (epoch+1) % 1 == 0:\n",
    "        if last_loss <= loss.item():\n",
    "            print(\"Updating learning rate\")\n",
    "            for param_group in optimizer.param_groups:\n",
    "                param_group['lr'] *= 0.8\n",
    "        last_loss = loss.item()\n",
    "        print('epoch {}, loss {}'.format(epoch+1, loss.item()))"
   ]
  },
  {
   "cell_type": "markdown",
   "metadata": {},
   "source": [
    "### Update the current learning rate"
   ]
  },
  {
   "cell_type": "code",
   "execution_count": null,
   "metadata": {},
   "outputs": [],
   "source": [
    "for param_group in optimizer.param_groups:\n",
    "    param_group['lr'] = 0.4"
   ]
  },
  {
   "cell_type": "markdown",
   "metadata": {},
   "source": [
    "### Print the current the learning rate"
   ]
  },
  {
   "cell_type": "code",
   "execution_count": null,
   "metadata": {},
   "outputs": [],
   "source": [
    "for param_group in optimizer.param_groups:\n",
    "    print(param_group['lr'])"
   ]
  },
  {
   "cell_type": "markdown",
   "metadata": {},
   "source": [
    "### Training it on complete data finally "
   ]
  },
  {
   "cell_type": "code",
   "execution_count": null,
   "metadata": {},
   "outputs": [],
   "source": [
    "filename = path + dataset_name + \"shuffled_keys_non_repeated.csv\"\n",
    "\n",
    "epochs = 25\n",
    "chunk_size = 16777216\n",
    "batch_size = 1024"
   ]
  },
  {
   "cell_type": "code",
   "execution_count": null,
   "metadata": {},
   "outputs": [],
   "source": [
    "last_loss = 1000000000\n",
    "\n",
    "for epoch in range(epochs):\n",
    "    epoch_loss = 0\n",
    "    index = 0\n",
    "    for index in range(total_rows // chunk_size + 1):\n",
    "        x = next(pd.read_csv(filename, skiprows=index * chunk_size, chunksize=chunk_size,\n",
    "                        header = None, sep=' ', dtype=np.float64, index_col = False))\n",
    "        x = x.values\n",
    "        x_train = x[:,1]-offset\n",
    "        x_train = x_train.reshape((-1,1))\n",
    "        x_train = x_train/x_max\n",
    "\n",
    "        y_train = x[:,0]\n",
    "        y_train = y_train.reshape((-1,1))\n",
    "        y_train = y_train/y_max\n",
    "        \n",
    "        for small_batch in range(0,x_train.shape[0],batch_size):\n",
    "            \n",
    "            if torch.cuda.is_available():\n",
    "                inputs = Variable(torch.from_numpy(x_train[small_batch:min(small_batch+batch_size,x_train.shape[0]),:]).cuda())\n",
    "                labels = Variable(torch.from_numpy(y_train[small_batch:min(small_batch+batch_size,x_train.shape[0]),:]).cuda())\n",
    "            else:\n",
    "                inputs = Variable(torch.from_numpy(x_train[small_batch:min(small_batch+batch_size,x_train.shape[0]),:]))\n",
    "                labels = Variable(torch.from_numpy(y_train[small_batch:min(small_batch+batch_size,x_train.shape[0]),:]))\n",
    "\n",
    "            optimizer.zero_grad()\n",
    "            outputs = model(inputs)\n",
    "            loss = criterion(outputs, labels)\n",
    "            loss.backward()\n",
    "            optimizer.step()\n",
    "\n",
    "            epoch_loss += loss.item()\n",
    "            \n",
    "            if (small_batch) % 6400000 == 0:\n",
    "                print('Batch {}, loss {}'.format(small_batch, loss.item()))        \n",
    "        \n",
    "        \n",
    "    if (epoch+1) % 1 == 0:\n",
    "        if last_loss <= epoch_loss:\n",
    "            print(\"Updating learning rate\")\n",
    "            for param_group in optimizer.param_groups:\n",
    "                param_group['lr'] *= 0.8\n",
    "        last_loss = epoch_loss\n",
    "    print('epoch {}, loss {}'.format(epoch+1, epoch_loss))"
   ]
  },
  {
   "cell_type": "markdown",
   "metadata": {},
   "source": [
    "### Dividing the data into multiple buckets"
   ]
  },
  {
   "cell_type": "code",
   "execution_count": null,
   "metadata": {},
   "outputs": [],
   "source": [
    "filename = path + dataset_name + \"sorted_keys_non_repeated.csv\"\n",
    "\n",
    "chunk_size = 16777216\n",
    "batch_size = 1024\n",
    "all_total_buckets = [10000, 20000, 50000, 100000, 200000]"
   ]
  },
  {
   "cell_type": "code",
   "execution_count": null,
   "metadata": {
    "scrolled": false
   },
   "outputs": [],
   "source": [
    "big_bucket = dict()\n",
    "\n",
    "for total_buckets in all_total_buckets:\n",
    "    if not os.path.exists(\"/media/yash/Data/CSE662_Data/Buckets/{}/{}\".format(identifier, total_buckets)):\n",
    "        os.makedirs(\"/media/yash/Data/CSE662_Data/Buckets/{}/{}\".format(identifier, total_buckets))\n",
    "\n",
    "    for i in range(total_buckets):\n",
    "        big_bucket[i] = []\n",
    "\n",
    "    count = 0\n",
    "    for index in range(total_rows // chunk_size + 1):\n",
    "        x = next(pd.read_csv(filename, skiprows=index * chunk_size, chunksize=chunk_size,\n",
    "                        header = None, sep=' ', dtype=np.float64, index_col = False))\n",
    "        x = x.values\n",
    "        x_train = x[:,1]-offset\n",
    "        x_train = x_train.reshape((-1,1))\n",
    "        x_train = x_train/x_max\n",
    "    \n",
    "        y_train = x[:,0]\n",
    "        y_train = y_train.reshape((-1,1))\n",
    "        y_train = y_train/y_max\n",
    "\n",
    "        with torch.no_grad(): # we don't need gradients in the testing phase\n",
    "            if torch.cuda.is_available():\n",
    "                predicted = model(Variable(torch.from_numpy(x_train).cuda())).cpu().data.numpy()\n",
    "            else:\n",
    "                predicted = model(Variable(torch.from_numpy(x_train))).data.numpy()\n",
    "\n",
    "        for k, v, o in zip(x_train, y_train, predicted):\n",
    "            k = k.item()\n",
    "            v = v.item()\n",
    "            o = o.item()\n",
    "\n",
    "            mn = (total_buckets * o)\n",
    "            model_num = np.clip(np.floor(mn), 0, total_buckets - 1)\n",
    "            count += 1\n",
    "            big_bucket[model_num].append([v, o])\n",
    "\n",
    "        print(\"\\nFlushing data to disk.\\n\")\n",
    "        for b in big_bucket:\n",
    "            f=open(\"/media/yash/Data/CSE662_Data/Buckets/{}/{}/bucket_{}.csv\".format(identifier, total_buckets, b),'a')\n",
    "            writer = csv.writer(f, delimiter=' ')\n",
    "            for row in big_bucket[b]:\n",
    "                writer.writerow(row)\n",
    "            f.close()\n",
    "        print(\"Data processed: \", count)\n",
    "        big_bucket.clear()\n",
    "\n",
    "        for i in range(total_buckets):\n",
    "            big_bucket[i] = []"
   ]
  },
  {
   "cell_type": "markdown",
   "metadata": {},
   "source": [
    "### Point wise error for model 1 \n",
    "\n",
    "This has been used during visualizations. The calculations were written onto a file and then the graphs were visualized using histograms to infer how much the searcch space is reduced. "
   ]
  },
  {
   "cell_type": "code",
   "execution_count": null,
   "metadata": {},
   "outputs": [],
   "source": [
    "filename = path + dataset_name + \"sorted_keys_non_repeated.csv\"\n",
    "\n",
    "chunk_size = 16777216\n",
    "batch_size = 1024\n",
    "\n",
    "error_array = []\n",
    "\n",
    "if not os.path.exists(\"/media/yash/Data/CSE662_Data/Layer_1_Output/{}\".format(identifier)):\n",
    "    os.makedirs(\"/media/yash/Data/CSE662_Data/Layer_1_Output/{}\".format(identifier))\n",
    "\n",
    "f=open(\"/media/yash/Data/CSE662_Data/Layer_1_Output/{}/layer_1_op.csv\".format(identifier),'a')\n",
    "writer = csv.writer(f, delimiter=' ')\n",
    "\n",
    "count = 0\n",
    "for index in range(total_rows // chunk_size + 1):\n",
    "    x = next(pd.read_csv(filename, skiprows=index * chunk_size, chunksize=chunk_size,\n",
    "                    header = None, sep=' ', dtype=np.float64, index_col = False))\n",
    "    x = x.values\n",
    "    x_train = x[:,1]-offset\n",
    "    x_train = x_train.reshape((-1,1))\n",
    "    x_train = x_train/x_max\n",
    "\n",
    "    y_train = x[:,0]\n",
    "    y_train = y_train.reshape((-1,1))\n",
    "    y_train = y_train/y_max\n",
    "\n",
    "    with torch.no_grad(): # we don't need gradients in the testing phase\n",
    "        if torch.cuda.is_available():\n",
    "            predicted = model(Variable(torch.from_numpy(x_train).cuda())).cpu().data.numpy()\n",
    "        else:\n",
    "            predicted = model(Variable(torch.from_numpy(x_train))).data.numpy()\n",
    "\n",
    "    for k, v, o in zip(x_train, y_train, predicted):\n",
    "        k = k.item()\n",
    "        v = v.item()\n",
    "        o = o.item()\n",
    "        \n",
    "        k = k*x_max\n",
    "        v = v*y_max\n",
    "        o = o*y_max\n",
    "        \n",
    "        e = o - v\n",
    "        count += 1\n",
    "        error_array.append([v, k, o, e])\n",
    "\n",
    "    print(\"\\nFlushing data to disk.\\n\")\n",
    "    \n",
    "    for row in error_array:\n",
    "        writer.writerow(row)\n",
    "    \n",
    "    print(\"Data processed: \", count)\n",
    "    error_array.clear()\n",
    "f.close()"
   ]
  },
  {
   "cell_type": "markdown",
   "metadata": {},
   "source": [
    "### Visualize the sample of data and model output on the same data. \n",
    "\n",
    "Uses the same data i.e. uploaded in memory for sample training. "
   ]
  },
  {
   "cell_type": "code",
   "execution_count": null,
   "metadata": {},
   "outputs": [],
   "source": [
    "from matplotlib import pyplot as plt\n",
    "%matplotlib inline\n",
    "\n",
    "with torch.no_grad(): # we don't need gradients in the testing phase\n",
    "    if torch.cuda.is_available():\n",
    "        predicted = model(Variable(torch.from_numpy(x_train).cuda())).cpu().data.numpy()\n",
    "    else:\n",
    "        predicted = model(Variable(torch.from_numpy(x_train))).data.numpy()\n",
    "\n",
    "plt.clf()\n",
    "plt.plot(x_train, y_train, '--', label='Data', alpha=0.5)\n",
    "plt.plot(x_train, predicted, '--', label='Predictions', alpha=0.5)\n",
    "plt.legend(loc='best')\n",
    "plt.savefig(\"/home/yash/Desktop/CSE-662/Code/LIS/graphs/{}_layer_1.png\".format(identifier))\n",
    "plt.show()"
   ]
  },
  {
   "cell_type": "markdown",
   "metadata": {},
   "source": [
    "### Use the following code to unifromly sample data. "
   ]
  },
  {
   "cell_type": "code",
   "execution_count": null,
   "metadata": {},
   "outputs": [],
   "source": [
    "sample_rate = 10\n",
    "\n",
    "fr = path + dataset_name + \"sorted_keys_non_repeated.csv\"\n",
    "fw = path + dataset_name + \"sorted_keys_non_repeated_sampled_{}.csv\".format(sample_rate)\n",
    "\n",
    "inF = open(fr, \"r\")\n",
    "outF = open(fw, \"w\")\n",
    "i = 0\n",
    "for line in inF:\n",
    "    if i%sample_rate == 0:\n",
    "        outF.write(line)\n",
    "    i+=1\n",
    "outF.close()\n",
    "inF.close()"
   ]
  },
  {
   "cell_type": "markdown",
   "metadata": {},
   "source": [
    "### Stage 2 models for Linear Regression"
   ]
  },
  {
   "cell_type": "code",
   "execution_count": null,
   "metadata": {},
   "outputs": [],
   "source": [
    "import datetime\n",
    "from sklearn.linear_model import LinearRegression\n",
    "\n",
    "def save_scikit(identifier, total_buckets, x_max, y_max, total_rows, threshold):\n",
    "    results = []\n",
    "    threshs = []\n",
    "    data_details = [total_buckets, x_max, y_max, total_rows, 0]\n",
    "    \n",
    "    for i in range(total_buckets):\n",
    "        result, thresh = scikit_linreg(identifier=identifier, bucket=i, threshold=threshold, \n",
    "                                     y_max = y_max, total_buckets = total_buckets)\n",
    "        results.append(result)\n",
    "        threshs.append(thresh)\n",
    "    \n",
    "    for i in range(len(threshold)): \n",
    "        f=open(\"models/{}/model_params_layer_2_{}_{}.txt\".format(identifier, total_buckets, threshold[i]),'a')\n",
    "        writer = csv.writer(f, delimiter=' ')\n",
    "        data_details[4] = threshold[i]\n",
    "        writer.writerow(data_details)\n",
    "        \n",
    "        for j in range(len(results)):\n",
    "            results[j][7] = threshs[j][i]\n",
    "            writer.writerow(results[j])\n",
    "        f.close()\n",
    "    \n",
    "def scikit_linreg(identifier, bucket, threshold, y_max, total_buckets):\n",
    "    regressor = LinearRegression(n_jobs=-1)\n",
    "    data = np.transpose(np.loadtxt(\"/media/yash/Data/CSE662_Data/Buckets/{}/{}/bucket_{}.csv\".format(identifier, total_buckets, bucket), delimiter=' ', dtype = np.float64))\n",
    "    thresh = []\n",
    "    if data.shape[0] == 0:\n",
    "        sol = [-1, -1, -1, -1, -1, -1, -1, 0]\n",
    "        for t in threshold:\n",
    "            thresh.append(-1)\n",
    "        return sol, thresh\n",
    "    \n",
    "    regressor.fit(data[1].reshape(-1, 1), data[0].reshape(-1, 1))\n",
    "    op = regressor.predict(data[1].reshape(-1, 1))\n",
    "    difference = np.subtract(np.transpose(data[0]).reshape(-1, 1), op)\n",
    "    min_error = np.min(difference)*y_max\n",
    "    max_error = np.max(difference)*y_max\n",
    "    \n",
    "    sol = [regressor.coef_[0][0], regressor.intercept_[0], min_error, max_error, np.min(data[0])*y_max, \n",
    "           np.max(data[0])*y_max, np.max(data[0])*y_max - np.min(data[0])*y_max, 0]\n",
    "    \n",
    "    for t in threshold:\n",
    "        if max_error > t or  0-min_error > t:\n",
    "            thresh.append(0)\n",
    "        else: thresh.append(1)\n",
    "        \n",
    "    return sol, thresh"
   ]
  },
  {
   "cell_type": "code",
   "execution_count": null,
   "metadata": {},
   "outputs": [],
   "source": [
    "threshold_size = [32,64,128,256]\n",
    "buckets_size = [10000, 20000, 50000, 100000, 200000]\n",
    "\n",
    "for b in buckets_size:\n",
    "    print(\"Bucket count: \", b)\n",
    "    start = datetime.datetime.now()\n",
    "    save_scikit(identifier, b, x_max, y_max, total_rows, threshold=threshold_size)\n",
    "    end = datetime.datetime.now()\n",
    "    print(\"\\nTime taken: \" + str(end - start))"
   ]
  },
  {
   "cell_type": "markdown",
   "metadata": {},
   "source": [
    "### Visualize buckets \n",
    "\n",
    "Individual bucket data and the model can be visualized for further analytics. "
   ]
  },
  {
   "cell_type": "code",
   "execution_count": 34,
   "metadata": {},
   "outputs": [],
   "source": [
    "from sklearn.preprocessing import PolynomialFeatures\n",
    "from sklearn.linear_model import LinearRegression\n",
    "\n",
    "from matplotlib import pyplot as plt\n",
    "plt.rcParams['figure.figsize'] = [20, 10]\n",
    "%matplotlib inline\n",
    "\n",
    "def analyze_bucket(identifier, buckets_count, b, degree):\n",
    "    data = np.transpose(np.loadtxt(\"/media/yash/Data/CSE662_Data/Buckets/{}/{}/bucket_{}.csv\".format(identifier, buckets_count, b), delimiter=' ', dtype = np.float64))\n",
    "    \n",
    "    print(\"Bucket Number:\", b)\n",
    "    \n",
    "    if data.shape[0] == 0: \n",
    "        print(\"The bucket is empty.\")\n",
    "        return\n",
    "    X = data[1].reshape(-1, 1)*x_max\n",
    "    y = data[0].reshape(-1, 1)*y_max\n",
    "    \n",
    "    poly = PolynomialFeatures(degree=degree)\n",
    "    X_ = poly.fit_transform(X)\n",
    "\n",
    "    lg = LinearRegression()\n",
    "    lg.fit(X_, y)\n",
    "\n",
    "    op = lg.predict(X_)\n",
    "    \n",
    "    difference = np.subtract(y, op)\n",
    "    min_error = np.min(difference)\n",
    "    max_error = np.max(difference)\n",
    "\n",
    "    plt.clf()\n",
    "    plt.scatter(X, y,color='g')\n",
    "    plt.plot(X, op,color='k')\n",
    "    plt.xlabel('Bucket Size: {}\\nCoefficient: {}  ,Intercept: {}\\nMin Error: {} ,Max Error: {}\\nBucket Range: {} to {}'.format(X_.shape, lg.coef_[0],lg.intercept_[0], min_error, max_error, np.min(y), np.max(y)))\n",
    "    plt.tight_layout()\n",
    "    plt.savefig(\"/home/yash/Desktop/CSE-662/Code/LIS/graphs/{}_{}.png\".format(identifier, b))"
   ]
  },
  {
   "cell_type": "code",
   "execution_count": 35,
   "metadata": {},
   "outputs": [
    {
     "name": "stdout",
     "output_type": "stream",
     "text": [
      "Bucket Number: 0\n",
      "Bucket Number: 12500\n",
      "Bucket Number: 25000\n",
      "Bucket Number: 37500\n",
      "Bucket Number: 50000\n",
      "Bucket Number: 62500\n",
      "Bucket Number: 75000\n",
      "Bucket Number: 87500\n",
      "Bucket Number: 99900\n",
      "The bucket is empty.\n"
     ]
    },
    {
     "name": "stderr",
     "output_type": "stream",
     "text": [
      "/home/yash/anaconda3/envs/fastai/lib/python3.7/site-packages/ipykernel_launcher.py:9: UserWarning: loadtxt: Empty input file: \"/media/yash/Data/CSE662_Data/Buckets/maps/100000/bucket_99900.csv\"\n",
      "  if __name__ == '__main__':\n"
     ]
    },
    {
     "data": {
      "image/png": "[encoded data removed]",
      "text/plain": [
       "<Figure size 432x288 with 1 Axes>"
      ]
     },
     "metadata": {
      "needs_background": "light"
     },
     "output_type": "display_data"
    }
   ],
   "source": [
    "buckets = [0, 125, 250, 375, 500, 625, 750, 875, 999]\n",
    "b_mult = 100\n",
    "\n",
    "for b in buckets:\n",
    "    analyze_bucket(identifier = identifier, buckets_count = 1000 * b_mult, b = b*b_mult, degree = 1)"
   ]
  },
  {
   "cell_type": "markdown",
   "metadata": {},
   "source": [
    "### Write layer 1 weights to file"
   ]
  },
  {
   "cell_type": "code",
   "execution_count": null,
   "metadata": {},
   "outputs": [],
   "source": [
    "def write_weights():\n",
    "    file = torch.load(f=\"models/{}/super_layer.pt\".format(identifier))\n",
    "    open(\"models/{}/model_params_layer_1.txt\".format(identifier), 'w').close()\n",
    "    f = open(\"models/{}/model_params_layer_1.txt\".format(identifier), \"w+\")\n",
    "    \n",
    "    print(\"Writing weights for layers: \")\n",
    "    for k, v in file.items():\n",
    "        print(k)\n",
    "        if(k == \"layers.0.bias\" or k == \"layers.2.bias\" or k == \"out_layer.bias\" or k == \"layers.0.weight\"):\n",
    "            for val in v:\n",
    "                f.write(str(val.item()) + \" \")\n",
    "            f.write(\"\\n\")\n",
    "        elif(k == \"layers.2.weight\"):\n",
    "            for val in v:\n",
    "                for val_2 in val:\n",
    "                    f.write(str(val_2.item()) + \" \")\n",
    "                f.write(\"\\n\")\n",
    "        else:\n",
    "            for val in v[0]:\n",
    "                f.write(str(val.item()) + \" \")\n",
    "            f.write(\"\\n\")"
   ]
  },
  {
   "cell_type": "code",
   "execution_count": null,
   "metadata": {},
   "outputs": [],
   "source": [
    "write_weights()"
   ]
  },
  {
   "cell_type": "markdown",
   "metadata": {},
   "source": [
    "### Test particluar key's layer wise output"
   ]
  },
  {
   "cell_type": "code",
   "execution_count": null,
   "metadata": {},
   "outputs": [],
   "source": [
    "class SuperNetTest(torch.nn.Module):\n",
    "    def __init__(self, n1=16, n2=16, bias=True):\n",
    "        super(SuperNetTest, self).__init__()\n",
    "\n",
    "        if n2 == 0:\n",
    "            self.layers = torch.nn.Linear(in_features=1, out_features=n1, bias=bias)\n",
    "            self.layers.register_forward_hook(printer)\n",
    "        else:\n",
    "            self.layers = torch.nn.Sequential(torch.nn.Linear(in_features=1, out_features=n1, bias=bias),\n",
    "                                        torch.nn.ReLU(),\n",
    "                                        torch.nn.Linear(n1, n2, bias=bias),\n",
    "                                        )\n",
    "            for layer in self.layers:\n",
    "                layer.register_forward_hook(printer)\n",
    "        \n",
    "        self.out_layer = torch.nn.Linear(n1 if n2 == 0 else n2, 1, bias=bias)\n",
    "\n",
    "    def forward(self, x):\n",
    "        out = F.relu(self.layers(x))\n",
    "        return self.out_layer(out)\n",
    "    \n",
    "def printer(self, ip, op):\n",
    "    print(\"Layer Name:\", self.__class__.__name__)\n",
    "    print(\"Layer Parameters: \")\n",
    "    for o in op:\n",
    "        print(str(o.item()))\n",
    "\n",
    "def test_key(key, total_buckets, n1, n2, bias):\n",
    "    key = key - offset \n",
    "    key = key / x_max\n",
    "    print(\"Updated Model Input: \", key)\n",
    "    super_model = SuperNetTest(n1=n1, n2=n2, bias= bias)\n",
    "    super_model.load_state_dict(torch.load(f=\"models/{}/super_layer.pt\".format(identifier)))\n",
    "    super_model.eval()\n",
    "\n",
    "    key = torch.tensor([key])\n",
    "    output = super_model(key)\n",
    "\n",
    "    for k, o in zip(key, output):\n",
    "        k = k.item()\n",
    "        o = o.item()\n",
    "\n",
    "    print(\"Model Output: \", o)\n",
    "    mn = (total_buckets * o)\n",
    "    print(\"After Multiplication: \", mn)    \n",
    "    model_num = np.clip(np.floor(mn), 0, total_buckets - 1)    \n",
    "    print(\"Model Index: \", model_num)"
   ]
  },
  {
   "cell_type": "code",
   "execution_count": null,
   "metadata": {},
   "outputs": [],
   "source": [
    "test_key(540437109, 100000, 16, 16, True)"
   ]
  }
 ],
 "metadata": {
  "kernelspec": {
   "display_name": "Python 3",
   "language": "python",
   "name": "python3"
  },
  "language_info": {
   "codemirror_mode": {
    "name": "ipython",
    "version": 3
   },
   "file_extension": ".py",
   "mimetype": "text/x-python",
   "name": "python",
   "nbconvert_exporter": "python",
   "pygments_lexer": "ipython3",
   "version": "3.7.4"
  }
 },
 "nbformat": 4,
 "nbformat_minor": 2
}
